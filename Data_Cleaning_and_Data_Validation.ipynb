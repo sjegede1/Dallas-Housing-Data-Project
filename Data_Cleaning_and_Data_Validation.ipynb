{
  "nbformat": 4,
  "nbformat_minor": 0,
  "metadata": {
    "colab": {
      "provenance": [],
      "mount_file_id": "18VqJbyCR84YIbaGw4MNfk5YYPZcp__rU",
      "authorship_tag": "ABX9TyMoln/LV+cHaky8awND1un5",
      "include_colab_link": true
    },
    "kernelspec": {
      "name": "python3",
      "display_name": "Python 3"
    },
    "language_info": {
      "name": "python"
    }
  },
  "cells": [
    {
      "cell_type": "markdown",
      "metadata": {
        "id": "view-in-github",
        "colab_type": "text"
      },
      "source": [
        "<a href=\"https://colab.research.google.com/github/sjegede1/Dallas-Housing-Data-Project/blob/main/Data_Cleaning_and_Data_Validation.ipynb\" target=\"_parent\"><img src=\"https://colab.research.google.com/assets/colab-badge.svg\" alt=\"Open In Colab\"/></a>"
      ]
    },
    {
      "cell_type": "markdown",
      "source": [
        "# Mount Datasets\n",
        "From my google drive\n"
      ],
      "metadata": {
        "id": "QK6AVsKNayO2"
      }
    },
    {
      "cell_type": "code",
      "execution_count": 28,
      "metadata": {
        "id": "1ulQuaCGZ8K3",
        "colab": {
          "base_uri": "https://localhost:8080/"
        },
        "outputId": "ba142f11-b89a-400e-e392-5bac0c65e4a7"
      },
      "outputs": [
        {
          "output_type": "stream",
          "name": "stdout",
          "text": [
            "Mounted at /content/drive\n"
          ]
        }
      ],
      "source": [
        "from google.colab import drive\n",
        "drive.mount('/content/drive', force_remount=True)"
      ]
    },
    {
      "cell_type": "code",
      "source": [
        "datasets = '/content/drive/MyDrive/Dallas County Property Info/Datasets/'"
      ],
      "metadata": {
        "id": "JESWN4z9dIu3"
      },
      "execution_count": 29,
      "outputs": []
    },
    {
      "cell_type": "markdown",
      "source": [
        "# Read Datasets\n"
      ],
      "metadata": {
        "id": "gV-kA8ezdsPo"
      }
    },
    {
      "cell_type": "code",
      "source": [
        "import pandas as pd\n",
        "import numpy as np"
      ],
      "metadata": {
        "id": "HQfZW-jYdsx1"
      },
      "execution_count": 30,
      "outputs": []
    },
    {
      "cell_type": "code",
      "source": [
        "account_info_raw = pd.read_csv(datasets+'ACCOUNT_INFO.CSV')\n",
        "account_info_raw.head()\n",
        "#Only picking the columns we need\n",
        "account_info_columns = ['ACCOUNT_NUM','DIVISION_CD','STREET_NUM','FULL_STREET_NAME','BLDG-ID','UNIT_ID','PROPERTY_CITY','PROPERTY_ZIPCODE','NBHD_CD','DEED_TXFR_DATE','GIS_PARCEL_ID']\n",
        "account_info = account_info_raw.filter(items=account_info_columns)"
      ],
      "metadata": {
        "colab": {
          "base_uri": "https://localhost:8080/"
        },
        "id": "LCfxabdPeAbh",
        "outputId": "10c839f0-40d7-431c-b958-aa5c51b6ad6d"
      },
      "execution_count": 31,
      "outputs": [
        {
          "output_type": "stream",
          "name": "stderr",
          "text": [
            "/usr/local/lib/python3.8/dist-packages/IPython/core/interactiveshell.py:3326: DtypeWarning: Columns (5,13,16) have mixed types.Specify dtype option on import or set low_memory=False.\n",
            "  exec(code_obj, self.user_global_ns, self.user_ns)\n"
          ]
        }
      ]
    },
    {
      "cell_type": "code",
      "source": [
        "res_detail_raw = pd.read_csv(datasets+'RES_DETAIL.CSV')\n",
        "res_detail_raw.head()\n",
        "#Only picking the columsn we need\n",
        "res_detail_columns = ['ACCOUNT_NUM','TAX_OBJ_ID','BLDG_CLASS_DESC','YR_BUILT','EFF_YR_BUILT','CDU_RATING_DESC','TOT_MAIN_SF','TOT_LIVING_AREA_SF','PCT_COMPLETE','NUM_STORIES_DESC','NUM_KITCHENS','NUM_FULL_BATHS','NUM_HALF_BATHS','NUM_BEDROOMS','DEPREPRECIATION_PCT']\n",
        "res_detail = res_detail_raw.filter(items=res_detail_columns)"
      ],
      "metadata": {
        "colab": {
          "base_uri": "https://localhost:8080/"
        },
        "id": "JM1HZ5mfgPEc",
        "outputId": "2201e14b-4629-4b66-e4ea-705f854b7f60"
      },
      "execution_count": 32,
      "outputs": [
        {
          "output_type": "stream",
          "name": "stderr",
          "text": [
            "/usr/local/lib/python3.8/dist-packages/IPython/core/interactiveshell.py:3326: DtypeWarning: Columns (32,33) have mixed types.Specify dtype option on import or set low_memory=False.\n",
            "  exec(code_obj, self.user_global_ns, self.user_ns)\n"
          ]
        }
      ]
    },
    {
      "cell_type": "markdown",
      "source": [
        "# Clean Data\n"
      ],
      "metadata": {
        "id": "03lmWS3npfqa"
      }
    },
    {
      "cell_type": "code",
      "source": [
        "test_columns = ['ACCOUNT_NUM', 'DIVISION_CD', 'STREET_NUM', 'FULL_STREET_NAME','UNIT_ID', 'PROPERTY_CITY', 'PROPERTY_ZIPCODE',\n",
        "                'NBHD_CD','DEED_TXFR_DATE', 'BLDG_CLASS_DESC','YR_BUILT', 'EFF_YR_BUILT','CDU_RATING_DESC','TOT_LIVING_AREA_SF', \n",
        "                'PCT_COMPLETE','NUM_FULL_BATHS', 'NUM_HALF_BATHS', 'NUM_BEDROOMS']"
      ],
      "metadata": {
        "id": "9E7_1FyFpzg8"
      },
      "execution_count": 33,
      "outputs": []
    },
    {
      "cell_type": "markdown",
      "source": [
        "### Inner join \"ACCOUNT_INFO\" wit \"RES_DETAIL\""
      ],
      "metadata": {
        "id": "g8Lrd-2xzxHt"
      }
    },
    {
      "cell_type": "code",
      "source": [
        "test = account_info.set_index('ACCOUNT_NUM').join(res_detail.set_index('ACCOUNT_NUM'),how='inner').reset_index().filter(items=test_columns)\n",
        "test.UNIT_ID = test.UNIT_ID.fillna('')\n",
        "test.STREET_NUM.astype(str,copy=False)\n",
        "#test.STREET_NUM = test.STREET_NUM[test.STREET_NUM.notnull()]\n",
        "test.drop(test[test.STREET_NUM.isnull()].index, inplace = True)\n",
        "test.STREET_NUM = test.STREET_NUM.astype(int,copy=True)\n",
        "test.STREET_NUM = test.STREET_NUM.astype(str,copy=True)"
      ],
      "metadata": {
        "id": "sG9RBA26Mmiz"
      },
      "execution_count": 34,
      "outputs": []
    },
    {
      "cell_type": "code",
      "source": [
        "test.info()"
      ],
      "metadata": {
        "colab": {
          "base_uri": "https://localhost:8080/"
        },
        "id": "suS92H9E5DnC",
        "outputId": "115433b2-cb7d-4449-86bd-56038e1e2cc9"
      },
      "execution_count": 35,
      "outputs": [
        {
          "output_type": "stream",
          "name": "stdout",
          "text": [
            "<class 'pandas.core.frame.DataFrame'>\n",
            "Int64Index: 671259 entries, 0 to 671259\n",
            "Data columns (total 18 columns):\n",
            " #   Column              Non-Null Count   Dtype  \n",
            "---  ------              --------------   -----  \n",
            " 0   ACCOUNT_NUM         671259 non-null  object \n",
            " 1   DIVISION_CD         671259 non-null  object \n",
            " 2   STREET_NUM          671259 non-null  object \n",
            " 3   FULL_STREET_NAME    671259 non-null  object \n",
            " 4   UNIT_ID             671259 non-null  object \n",
            " 5   PROPERTY_CITY       671259 non-null  object \n",
            " 6   PROPERTY_ZIPCODE    671259 non-null  object \n",
            " 7   NBHD_CD             671259 non-null  object \n",
            " 8   DEED_TXFR_DATE      635786 non-null  object \n",
            " 9   BLDG_CLASS_DESC     671259 non-null  object \n",
            " 10  YR_BUILT            671259 non-null  int64  \n",
            " 11  EFF_YR_BUILT        671259 non-null  int64  \n",
            " 12  CDU_RATING_DESC     671259 non-null  object \n",
            " 13  TOT_LIVING_AREA_SF  671259 non-null  int64  \n",
            " 14  PCT_COMPLETE        671259 non-null  float64\n",
            " 15  NUM_FULL_BATHS      671259 non-null  int64  \n",
            " 16  NUM_HALF_BATHS      671259 non-null  int64  \n",
            " 17  NUM_BEDROOMS        671259 non-null  int64  \n",
            "dtypes: float64(1), int64(6), object(11)\n",
            "memory usage: 97.3+ MB\n"
          ]
        }
      ]
    },
    {
      "cell_type": "markdown",
      "source": [
        "Clean ZipCodes and Merge Full Address"
      ],
      "metadata": {
        "id": "pGU2nKKMBk9S"
      }
    },
    {
      "cell_type": "code",
      "source": [
        "test.PROPERTY_ZIPCODE = test.PROPERTY_ZIPCODE.str.slice_replace(start=5,repl='')"
      ],
      "metadata": {
        "id": "-dLgbsJqBrba"
      },
      "execution_count": 36,
      "outputs": []
    },
    {
      "cell_type": "code",
      "source": [
        "test['FULL ADDRESS'] = test.STREET_NUM + ' ' + test.FULL_STREET_NAME + ' ' + test.PROPERTY_CITY + ' ' + test.PROPERTY_ZIPCODE"
      ],
      "metadata": {
        "id": "d2EWyTyh6Rnw"
      },
      "execution_count": 37,
      "outputs": []
    },
    {
      "cell_type": "code",
      "source": [
        "test.head()"
      ],
      "metadata": {
        "colab": {
          "base_uri": "https://localhost:8080/",
          "height": 548
        },
        "id": "16xOhXbcBPu3",
        "outputId": "59ff1f23-71b1-4c2a-e976-3c95261c2141"
      },
      "execution_count": 38,
      "outputs": [
        {
          "output_type": "execute_result",
          "data": {
            "text/plain": [
              "         ACCOUNT_NUM DIVISION_CD STREET_NUM FULL_STREET_NAME UNIT_ID  \\\n",
              "0  00000107512000000         RES       2707      FLORENCE ST           \n",
              "1  00000107515000000         RES        600     CANTEGRAL ST           \n",
              "2  00000107680100000         RES       1523     MARSEILLE PL           \n",
              "3  00000107680120000         RES       1519     MARSEILLE PL           \n",
              "4  00000107680140000         RES       1515     MARSEILLE PL           \n",
              "\n",
              "  PROPERTY_CITY PROPERTY_ZIPCODE NBHD_CD DEED_TXFR_DATE BLDG_CLASS_DESC  \\\n",
              "0        DALLAS            75204  1DSZ99     07/18/2014              21   \n",
              "1        DALLAS            75204  1DSZ99     12/23/2019              21   \n",
              "2        DALLAS            75204  1DSQ01     11/03/2009              16   \n",
              "3        DALLAS            75204  1DSQ01     08/28/2020              16   \n",
              "4        DALLAS            75204  1DSQ01     03/18/2008              16   \n",
              "\n",
              "   YR_BUILT  EFF_YR_BUILT CDU_RATING_DESC  TOT_LIVING_AREA_SF  PCT_COMPLETE  \\\n",
              "0      2016          2016       VERY GOOD                1656         100.0   \n",
              "1      2000          2000         AVERAGE                3446         100.0   \n",
              "2      1980          1980         AVERAGE                2673         100.0   \n",
              "3      1980          1980            GOOD                1577         100.0   \n",
              "4      1980          1980       VERY GOOD                2345         100.0   \n",
              "\n",
              "   NUM_FULL_BATHS  NUM_HALF_BATHS  NUM_BEDROOMS  \\\n",
              "0               2               0             2   \n",
              "1               3               1             3   \n",
              "2               2               1             3   \n",
              "3               2               0             2   \n",
              "4               2               0             2   \n",
              "\n",
              "                     FULL ADDRESS  \n",
              "0   2707 FLORENCE ST DALLAS 75204  \n",
              "1   600 CANTEGRAL ST DALLAS 75204  \n",
              "2  1523 MARSEILLE PL DALLAS 75204  \n",
              "3  1519 MARSEILLE PL DALLAS 75204  \n",
              "4  1515 MARSEILLE PL DALLAS 75204  "
            ],
            "text/html": [
              "\n",
              "  <div id=\"df-fd81d318-1608-4932-a5e1-d1c1d3502d9c\">\n",
              "    <div class=\"colab-df-container\">\n",
              "      <div>\n",
              "<style scoped>\n",
              "    .dataframe tbody tr th:only-of-type {\n",
              "        vertical-align: middle;\n",
              "    }\n",
              "\n",
              "    .dataframe tbody tr th {\n",
              "        vertical-align: top;\n",
              "    }\n",
              "\n",
              "    .dataframe thead th {\n",
              "        text-align: right;\n",
              "    }\n",
              "</style>\n",
              "<table border=\"1\" class=\"dataframe\">\n",
              "  <thead>\n",
              "    <tr style=\"text-align: right;\">\n",
              "      <th></th>\n",
              "      <th>ACCOUNT_NUM</th>\n",
              "      <th>DIVISION_CD</th>\n",
              "      <th>STREET_NUM</th>\n",
              "      <th>FULL_STREET_NAME</th>\n",
              "      <th>UNIT_ID</th>\n",
              "      <th>PROPERTY_CITY</th>\n",
              "      <th>PROPERTY_ZIPCODE</th>\n",
              "      <th>NBHD_CD</th>\n",
              "      <th>DEED_TXFR_DATE</th>\n",
              "      <th>BLDG_CLASS_DESC</th>\n",
              "      <th>YR_BUILT</th>\n",
              "      <th>EFF_YR_BUILT</th>\n",
              "      <th>CDU_RATING_DESC</th>\n",
              "      <th>TOT_LIVING_AREA_SF</th>\n",
              "      <th>PCT_COMPLETE</th>\n",
              "      <th>NUM_FULL_BATHS</th>\n",
              "      <th>NUM_HALF_BATHS</th>\n",
              "      <th>NUM_BEDROOMS</th>\n",
              "      <th>FULL ADDRESS</th>\n",
              "    </tr>\n",
              "  </thead>\n",
              "  <tbody>\n",
              "    <tr>\n",
              "      <th>0</th>\n",
              "      <td>00000107512000000</td>\n",
              "      <td>RES</td>\n",
              "      <td>2707</td>\n",
              "      <td>FLORENCE ST</td>\n",
              "      <td></td>\n",
              "      <td>DALLAS</td>\n",
              "      <td>75204</td>\n",
              "      <td>1DSZ99</td>\n",
              "      <td>07/18/2014</td>\n",
              "      <td>21</td>\n",
              "      <td>2016</td>\n",
              "      <td>2016</td>\n",
              "      <td>VERY GOOD</td>\n",
              "      <td>1656</td>\n",
              "      <td>100.0</td>\n",
              "      <td>2</td>\n",
              "      <td>0</td>\n",
              "      <td>2</td>\n",
              "      <td>2707 FLORENCE ST DALLAS 75204</td>\n",
              "    </tr>\n",
              "    <tr>\n",
              "      <th>1</th>\n",
              "      <td>00000107515000000</td>\n",
              "      <td>RES</td>\n",
              "      <td>600</td>\n",
              "      <td>CANTEGRAL ST</td>\n",
              "      <td></td>\n",
              "      <td>DALLAS</td>\n",
              "      <td>75204</td>\n",
              "      <td>1DSZ99</td>\n",
              "      <td>12/23/2019</td>\n",
              "      <td>21</td>\n",
              "      <td>2000</td>\n",
              "      <td>2000</td>\n",
              "      <td>AVERAGE</td>\n",
              "      <td>3446</td>\n",
              "      <td>100.0</td>\n",
              "      <td>3</td>\n",
              "      <td>1</td>\n",
              "      <td>3</td>\n",
              "      <td>600 CANTEGRAL ST DALLAS 75204</td>\n",
              "    </tr>\n",
              "    <tr>\n",
              "      <th>2</th>\n",
              "      <td>00000107680100000</td>\n",
              "      <td>RES</td>\n",
              "      <td>1523</td>\n",
              "      <td>MARSEILLE PL</td>\n",
              "      <td></td>\n",
              "      <td>DALLAS</td>\n",
              "      <td>75204</td>\n",
              "      <td>1DSQ01</td>\n",
              "      <td>11/03/2009</td>\n",
              "      <td>16</td>\n",
              "      <td>1980</td>\n",
              "      <td>1980</td>\n",
              "      <td>AVERAGE</td>\n",
              "      <td>2673</td>\n",
              "      <td>100.0</td>\n",
              "      <td>2</td>\n",
              "      <td>1</td>\n",
              "      <td>3</td>\n",
              "      <td>1523 MARSEILLE PL DALLAS 75204</td>\n",
              "    </tr>\n",
              "    <tr>\n",
              "      <th>3</th>\n",
              "      <td>00000107680120000</td>\n",
              "      <td>RES</td>\n",
              "      <td>1519</td>\n",
              "      <td>MARSEILLE PL</td>\n",
              "      <td></td>\n",
              "      <td>DALLAS</td>\n",
              "      <td>75204</td>\n",
              "      <td>1DSQ01</td>\n",
              "      <td>08/28/2020</td>\n",
              "      <td>16</td>\n",
              "      <td>1980</td>\n",
              "      <td>1980</td>\n",
              "      <td>GOOD</td>\n",
              "      <td>1577</td>\n",
              "      <td>100.0</td>\n",
              "      <td>2</td>\n",
              "      <td>0</td>\n",
              "      <td>2</td>\n",
              "      <td>1519 MARSEILLE PL DALLAS 75204</td>\n",
              "    </tr>\n",
              "    <tr>\n",
              "      <th>4</th>\n",
              "      <td>00000107680140000</td>\n",
              "      <td>RES</td>\n",
              "      <td>1515</td>\n",
              "      <td>MARSEILLE PL</td>\n",
              "      <td></td>\n",
              "      <td>DALLAS</td>\n",
              "      <td>75204</td>\n",
              "      <td>1DSQ01</td>\n",
              "      <td>03/18/2008</td>\n",
              "      <td>16</td>\n",
              "      <td>1980</td>\n",
              "      <td>1980</td>\n",
              "      <td>VERY GOOD</td>\n",
              "      <td>2345</td>\n",
              "      <td>100.0</td>\n",
              "      <td>2</td>\n",
              "      <td>0</td>\n",
              "      <td>2</td>\n",
              "      <td>1515 MARSEILLE PL DALLAS 75204</td>\n",
              "    </tr>\n",
              "  </tbody>\n",
              "</table>\n",
              "</div>\n",
              "      <button class=\"colab-df-convert\" onclick=\"convertToInteractive('df-fd81d318-1608-4932-a5e1-d1c1d3502d9c')\"\n",
              "              title=\"Convert this dataframe to an interactive table.\"\n",
              "              style=\"display:none;\">\n",
              "        \n",
              "  <svg xmlns=\"http://www.w3.org/2000/svg\" height=\"24px\"viewBox=\"0 0 24 24\"\n",
              "       width=\"24px\">\n",
              "    <path d=\"M0 0h24v24H0V0z\" fill=\"none\"/>\n",
              "    <path d=\"M18.56 5.44l.94 2.06.94-2.06 2.06-.94-2.06-.94-.94-2.06-.94 2.06-2.06.94zm-11 1L8.5 8.5l.94-2.06 2.06-.94-2.06-.94L8.5 2.5l-.94 2.06-2.06.94zm10 10l.94 2.06.94-2.06 2.06-.94-2.06-.94-.94-2.06-.94 2.06-2.06.94z\"/><path d=\"M17.41 7.96l-1.37-1.37c-.4-.4-.92-.59-1.43-.59-.52 0-1.04.2-1.43.59L10.3 9.45l-7.72 7.72c-.78.78-.78 2.05 0 2.83L4 21.41c.39.39.9.59 1.41.59.51 0 1.02-.2 1.41-.59l7.78-7.78 2.81-2.81c.8-.78.8-2.07 0-2.86zM5.41 20L4 18.59l7.72-7.72 1.47 1.35L5.41 20z\"/>\n",
              "  </svg>\n",
              "      </button>\n",
              "      \n",
              "  <style>\n",
              "    .colab-df-container {\n",
              "      display:flex;\n",
              "      flex-wrap:wrap;\n",
              "      gap: 12px;\n",
              "    }\n",
              "\n",
              "    .colab-df-convert {\n",
              "      background-color: #E8F0FE;\n",
              "      border: none;\n",
              "      border-radius: 50%;\n",
              "      cursor: pointer;\n",
              "      display: none;\n",
              "      fill: #1967D2;\n",
              "      height: 32px;\n",
              "      padding: 0 0 0 0;\n",
              "      width: 32px;\n",
              "    }\n",
              "\n",
              "    .colab-df-convert:hover {\n",
              "      background-color: #E2EBFA;\n",
              "      box-shadow: 0px 1px 2px rgba(60, 64, 67, 0.3), 0px 1px 3px 1px rgba(60, 64, 67, 0.15);\n",
              "      fill: #174EA6;\n",
              "    }\n",
              "\n",
              "    [theme=dark] .colab-df-convert {\n",
              "      background-color: #3B4455;\n",
              "      fill: #D2E3FC;\n",
              "    }\n",
              "\n",
              "    [theme=dark] .colab-df-convert:hover {\n",
              "      background-color: #434B5C;\n",
              "      box-shadow: 0px 1px 3px 1px rgba(0, 0, 0, 0.15);\n",
              "      filter: drop-shadow(0px 1px 2px rgba(0, 0, 0, 0.3));\n",
              "      fill: #FFFFFF;\n",
              "    }\n",
              "  </style>\n",
              "\n",
              "      <script>\n",
              "        const buttonEl =\n",
              "          document.querySelector('#df-fd81d318-1608-4932-a5e1-d1c1d3502d9c button.colab-df-convert');\n",
              "        buttonEl.style.display =\n",
              "          google.colab.kernel.accessAllowed ? 'block' : 'none';\n",
              "\n",
              "        async function convertToInteractive(key) {\n",
              "          const element = document.querySelector('#df-fd81d318-1608-4932-a5e1-d1c1d3502d9c');\n",
              "          const dataTable =\n",
              "            await google.colab.kernel.invokeFunction('convertToInteractive',\n",
              "                                                     [key], {});\n",
              "          if (!dataTable) return;\n",
              "\n",
              "          const docLinkHtml = 'Like what you see? Visit the ' +\n",
              "            '<a target=\"_blank\" href=https://colab.research.google.com/notebooks/data_table.ipynb>data table notebook</a>'\n",
              "            + ' to learn more about interactive tables.';\n",
              "          element.innerHTML = '';\n",
              "          dataTable['output_type'] = 'display_data';\n",
              "          await google.colab.output.renderOutput(dataTable, element);\n",
              "          const docLink = document.createElement('div');\n",
              "          docLink.innerHTML = docLinkHtml;\n",
              "          element.appendChild(docLink);\n",
              "        }\n",
              "      </script>\n",
              "    </div>\n",
              "  </div>\n",
              "  "
            ]
          },
          "metadata": {},
          "execution_count": 38
        }
      ]
    },
    {
      "cell_type": "markdown",
      "source": [
        "### Create Decades Bins for Year Built and Effective Year Built"
      ],
      "metadata": {
        "id": "Wj0nR5644ru5"
      }
    },
    {
      "cell_type": "code",
      "source": [
        "year_labels = ['Pre-1950','1950s','1960s','1970s','1980s','1990s','2000s','2010s','2020s']\n",
        "test['YR_BUILT_BINS'] = pd.cut(x=test.YR_BUILT, bins=[0,1950,1960,1970,1980,1990,2000,2010,2020,2030],labels=year_labels)\n",
        "test['EFF_YR_BUILT_BINS'] = pd.cut(x=test.EFF_YR_BUILT, bins=[0,1950,1960,1970,1980,1990,2000,2010,2020,2030],labels=year_labels)\n",
        " \n",
        "# We can check the frequency of each bin\n",
        "print(test.head())"
      ],
      "metadata": {
        "colab": {
          "base_uri": "https://localhost:8080/"
        },
        "id": "W619YK-AHSsP",
        "outputId": "9a1fff4f-9d99-49c0-e44f-e934f8cbe2a5"
      },
      "execution_count": 39,
      "outputs": [
        {
          "output_type": "stream",
          "name": "stdout",
          "text": [
            "         ACCOUNT_NUM DIVISION_CD STREET_NUM FULL_STREET_NAME UNIT_ID  \\\n",
            "0  00000107512000000         RES       2707      FLORENCE ST           \n",
            "1  00000107515000000         RES        600     CANTEGRAL ST           \n",
            "2  00000107680100000         RES       1523     MARSEILLE PL           \n",
            "3  00000107680120000         RES       1519     MARSEILLE PL           \n",
            "4  00000107680140000         RES       1515     MARSEILLE PL           \n",
            "\n",
            "  PROPERTY_CITY PROPERTY_ZIPCODE NBHD_CD DEED_TXFR_DATE BLDG_CLASS_DESC  ...  \\\n",
            "0        DALLAS            75204  1DSZ99     07/18/2014              21  ...   \n",
            "1        DALLAS            75204  1DSZ99     12/23/2019              21  ...   \n",
            "2        DALLAS            75204  1DSQ01     11/03/2009              16  ...   \n",
            "3        DALLAS            75204  1DSQ01     08/28/2020              16  ...   \n",
            "4        DALLAS            75204  1DSQ01     03/18/2008              16  ...   \n",
            "\n",
            "   EFF_YR_BUILT  CDU_RATING_DESC TOT_LIVING_AREA_SF  PCT_COMPLETE  \\\n",
            "0          2016        VERY GOOD               1656         100.0   \n",
            "1          2000          AVERAGE               3446         100.0   \n",
            "2          1980          AVERAGE               2673         100.0   \n",
            "3          1980             GOOD               1577         100.0   \n",
            "4          1980        VERY GOOD               2345         100.0   \n",
            "\n",
            "   NUM_FULL_BATHS  NUM_HALF_BATHS  NUM_BEDROOMS  \\\n",
            "0               2               0             2   \n",
            "1               3               1             3   \n",
            "2               2               1             3   \n",
            "3               2               0             2   \n",
            "4               2               0             2   \n",
            "\n",
            "                     FULL ADDRESS YR_BUILT_BINS EFF_YR_BUILT_BINS  \n",
            "0   2707 FLORENCE ST DALLAS 75204         2010s             2010s  \n",
            "1   600 CANTEGRAL ST DALLAS 75204         1990s             1990s  \n",
            "2  1523 MARSEILLE PL DALLAS 75204         1970s             1970s  \n",
            "3  1519 MARSEILLE PL DALLAS 75204         1970s             1970s  \n",
            "4  1515 MARSEILLE PL DALLAS 75204         1970s             1970s  \n",
            "\n",
            "[5 rows x 21 columns]\n"
          ]
        }
      ]
    },
    {
      "cell_type": "code",
      "source": [
        "ax = test.EFF_YR_BUILT_BINS.value_counts().plot(kind='bar')"
      ],
      "metadata": {
        "colab": {
          "base_uri": "https://localhost:8080/",
          "height": 300
        },
        "id": "aw94I-7PskkA",
        "outputId": "d9b11ae9-72f9-480a-f3db-26a82344d92f"
      },
      "execution_count": 40,
      "outputs": [
        {
          "output_type": "display_data",
          "data": {
            "text/plain": [
              "<Figure size 432x288 with 1 Axes>"
            ],
            "image/png": "[encoded data removed]"
          },
          "metadata": {
            "needs_background": "light"
          }
        }
      ]
    },
    {
      "cell_type": "markdown",
      "source": [
        "Convert Addresses to Longtiude and Latitude using Google maps API then add to test DataFrame\n",
        "\n",
        "**DO NOT STORE API KEYS IN THE SCRIPT**"
      ],
      "metadata": {
        "id": "B8-vgE4ET2Vl"
      }
    },
    {
      "cell_type": "code",
      "source": [],
      "metadata": {
        "id": "FsAusnDh_WYf"
      },
      "execution_count": 40,
      "outputs": []
    },
    {
      "cell_type": "code",
      "source": [],
      "metadata": {
        "id": "yPnedDV4a-ai"
      },
      "execution_count": null,
      "outputs": []
    },
    {
      "cell_type": "markdown",
      "source": [
        "Output cleaned data to csv in Drive\n"
      ],
      "metadata": {
        "id": "Do0a_BdhRDMR"
      }
    },
    {
      "cell_type": "code",
      "source": [
        "filepath = datasets+'Residential_Data_Clean.csv'\n",
        "test.to_csv(filepath,index=False)"
      ],
      "metadata": {
        "id": "5ygOEq_URW7E"
      },
      "execution_count": 41,
      "outputs": []
    },
    {
      "cell_type": "markdown",
      "source": [
        "Future Work\n",
        "* Scrape History Data from dallascad.org\n",
        "* Stream history data if possible\n",
        "* Create distrbuted workload\n",
        "* Transform data before storage if necessary\n",
        "  * Store history data as documents\n",
        "  * Design graph db or MongoDB for storage\n",
        "  * Allow dynamic querying of data\n",
        "* Store history\n"
      ],
      "metadata": {
        "id": "RprYbk2zZhXX"
      }
    },
    {
      "cell_type": "markdown",
      "source": [],
      "metadata": {
        "id": "O2GsIxzQZhTv"
      }
    }
  ]
}